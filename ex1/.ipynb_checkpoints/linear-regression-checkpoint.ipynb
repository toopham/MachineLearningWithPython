{
 "cells": [
  {
   "cell_type": "markdown",
   "id": "52ef785e",
   "metadata": {},
   "source": [
    "# Linear Regression with Python\n",
    "\n",
    "## This is the solution of Tu Pham based on exercise 1 from Andrew Ng's Machine Learning coursera course."
   ]
  },
  {
   "cell_type": "markdown",
   "id": "25fe1907",
   "metadata": {},
   "source": [
    "We will use a set of data $(x,y)$ and apply Gradient Descent to get a fitted line $L_\\theta(x) = \\theta_0 + \\theta_1 x$ that will minimize the cost function $J(\\theta)$\n",
    "\n",
    "##Libraries\n",
    "-numpy\n",
    "-pandas\n",
    "\n",
    "First we will import the necessary libraries"
   ]
  },
  {
   "cell_type": "code",
   "execution_count": 197,
   "id": "8924e41e",
   "metadata": {},
   "outputs": [],
   "source": [
    "import numpy as np\n",
    "import pandas\n",
    "import math\n",
    "from matplotlib import pyplot as plt"
   ]
  },
  {
   "cell_type": "markdown",
   "id": "e68255bb",
   "metadata": {},
   "source": [
    "Import data ex1data1.csv into Python as data and set m=training set size"
   ]
  },
  {
   "cell_type": "code",
   "execution_count": 198,
   "id": "57f9ac9b",
   "metadata": {},
   "outputs": [],
   "source": [
    "data=pandas.read_csv('ex1data1.csv',sep=',',na_values='.')\n",
    "m=len(data)"
   ]
  },
  {
   "cell_type": "code",
   "execution_count": 199,
   "id": "3946565c",
   "metadata": {},
   "outputs": [
    {
     "name": "stdout",
     "output_type": "stream",
     "text": [
      "    population    profit\n",
      "0       6.1101  17.59200\n",
      "1       5.5277   9.13020\n",
      "2       8.5186  13.66200\n",
      "3       7.0032  11.85400\n",
      "4       5.8598   6.82330\n",
      "..         ...       ...\n",
      "92      5.8707   7.20290\n",
      "93      5.3054   1.98690\n",
      "94      8.2934   0.14454\n",
      "95     13.3940   9.05510\n",
      "96      5.4369   0.61705\n",
      "\n",
      "[97 rows x 2 columns]\n"
     ]
    }
   ],
   "source": [
    "print(data)"
   ]
  },
  {
   "cell_type": "markdown",
   "id": "e41f8e2b",
   "metadata": {},
   "source": [
    "Define our training sets to be $x$=input and $y$=output\n",
    "\n",
    "Note: Since $X\\theta = y$, the first column of $X$ will always be a column of ones to correspond to the first parameter $\\theta_0$ of $\\theta = \\begin{bmatrix} \\theta_0 \\\\ \\theta_1 \\end{bmatrix}$"
   ]
  },
  {
   "cell_type": "code",
   "execution_count": 200,
   "id": "9ee677f5",
   "metadata": {
    "scrolled": true
   },
   "outputs": [],
   "source": [
    "col1=data.iloc[:,0]\n",
    "col2=data.iloc[:,1]\n",
    "x=[[col1[i]] for i in range(m)]\n",
    "y=[[col2[i]] for i in range(m)]\n",
    "X=[[1,x[i][0]] for i in range(m)]\n",
    "x=np.array(x)\n",
    "y=np.array(y)\n",
    "X=np.array(X)\n",
    "\n"
   ]
  },
  {
   "cell_type": "markdown",
   "id": "0c0909f5",
   "metadata": {},
   "source": [
    "# Cost Function $J(\\theta)$\n",
    "\n",
    "$$J(\\theta) = \\frac{1}{2m}\\sum_{i=1}^m(\\theta_0+\\theta_1*x^{(i)}- y^{(i)})^2)$$\n",
    "Where \n",
    "m= size of the training sample\n",
    "\n",
    "$\\theta = [\\theta_0; \\theta_1]$ \n",
    "\n",
    "$(x^{(i)},y^{(i)})$ is the $i$th training pair. \n",
    "\n",
    "# Gradient Descent\n",
    "\n",
    "To apply gradient descent, we start with an initial $\\theta$, with a given $\\alpha$ = step size of each iteration.\n",
    "\n",
    "$$\\theta := \\theta - \\alpha(1/m) * \\sum_{i=1}^m(\\theta_0+\\theta_1*x^{(i)} - y^{(i)})x^{(i)}$$\n",
    "\n",
    "\n",
    "## gradientDescent function.\n",
    "### Parameters\n",
    "- X - the matrix form of the training set input\n",
    "- y - the vector form of the training set output\n",
    "- $\\theta$ - the initialized theta, this is the starting point for our gradientDescent\n",
    "- $\\alpha$ - the step size\n",
    "- iterations - number of times we will apply gradientDescent to compute for the optimal $\\theta$\n",
    "\n",
    "### Return\n",
    "The function return the optimal theta that will minimize the cost function."
   ]
  },
  {
   "cell_type": "code",
   "execution_count": 204,
   "id": "42494495",
   "metadata": {},
   "outputs": [],
   "source": [
    "def gradientDescent(X,y,theta,alpha,iterations):\n",
    "    #apply the iterations as the number of time we will apply gradient descent\n",
    "    for i in range(iterations):\n",
    "        predicted=np.matmul(X,theta)\n",
    "        error=np.subtract(predicted,y)\n",
    "        sumerrorSq=0\n",
    "        for j in range(m):\n",
    "            sumerrorSq+=math.pow(error[j][0],2)\n",
    "            \n",
    "        cost=sumerrorSq/(2*m)\n",
    "        theta=theta - (alpha/m)*(np.matmul(X.transpose(),error))\n",
    "\n",
    "        \n",
    "    return theta\n",
    "                            \n",
    "    "
   ]
  },
  {
   "cell_type": "code",
   "execution_count": 211,
   "id": "86cf1158",
   "metadata": {
    "scrolled": true
   },
   "outputs": [
    {
     "name": "stdout",
     "output_type": "stream",
     "text": [
      "[[-3.63029144]\n",
      " [ 1.16636235]]\n"
     ]
    }
   ],
   "source": [
    "theta = np.zeros((2,1))\n",
    "theta = gradientDescent(X,y,theta,.01,1500)\n",
    "\n",
    "print(theta)"
   ]
  },
  {
   "cell_type": "markdown",
   "id": "60d2bf7f",
   "metadata": {},
   "source": [
    "We will now plot the line $L_\\theta(x) = -3.63029144+1.16636235x$ and compare with the training sets.\n",
    "\n"
   ]
  },
  {
   "cell_type": "code",
   "execution_count": 212,
   "id": "cd2f0dbc",
   "metadata": {},
   "outputs": [
    {
     "data": {
      "text/plain": [
       "[<matplotlib.lines.Line2D at 0x7ff97869cee0>]"
      ]
     },
     "execution_count": 212,
     "metadata": {},
     "output_type": "execute_result"
    },
    {
     "data": {
      "image/png": "[encoded data removed]",
      "text/plain": [
       "<Figure size 432x288 with 1 Axes>"
      ]
     },
     "metadata": {
      "needs_background": "light"
     },
     "output_type": "display_data"
    }
   ],
   "source": [
    "data.plot(x='population', y='profit', kind='scatter')\n",
    "plt.plot(x,theta[0]+theta[1]*x,'-g',label='linear regression')\n"
   ]
  },
  {
   "cell_type": "code",
   "execution_count": null,
   "id": "240596a6",
   "metadata": {},
   "outputs": [],
   "source": []
  }
 ],
 "metadata": {
  "kernelspec": {
   "display_name": "Python 3 (ipykernel)",
   "language": "python",
   "name": "python3"
  },
  "language_info": {
   "codemirror_mode": {
    "name": "ipython",
    "version": 3
   },
   "file_extension": ".py",
   "mimetype": "text/x-python",
   "name": "python",
   "nbconvert_exporter": "python",
   "pygments_lexer": "ipython3",
   "version": "3.9.0"
  }
 },
 "nbformat": 4,
 "nbformat_minor": 5
}
