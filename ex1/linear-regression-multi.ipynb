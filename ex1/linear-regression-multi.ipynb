{
 "cells": [
  {
   "cell_type": "markdown",
   "id": "52ef785e",
   "metadata": {},
   "source": [
    "# Linear Regression with Python\n",
    "\n",
    "## This is the solution to exercise 1 from Andrew Ng's Machine Learning coursera course.\n",
    "### By: Tu Pham"
   ]
  },
  {
   "cell_type": "markdown",
   "id": "25fe1907",
   "metadata": {},
   "source": [
    "In this part, you will implement linear regression with multiple variables to predict the prices of houses. Suppose you are selling your house and you want to know what a good market price would be. One way to do this is to first collect information on recent houses sold and make a model of housing prices.\n",
    "\n",
    "> The file ex1data2.txt contains a training set of housing prices in Portland, Oregon. The first column is the size of the \n",
    "> house (in square feet), the second column is the number of bedrooms, and the third column is the price of the house. Run \n",
    "> this section now to preview the data.\n",
    "\n",
    "We will use a set of data $(x,y)$ and apply Gradient Descent to get a fitted line $L_\\theta(x) = \\theta_0 + \\theta_1 x_1+\\theta_2 x_2$ that will minimize the cost function $J(\\theta)$\n",
    "\n",
    "##Libraries\n",
    "-numpy\n",
    "-pandas\n",
    "\n",
    "First we will import the necessary libraries"
   ]
  },
  {
   "cell_type": "code",
   "execution_count": 335,
   "id": "8924e41e",
   "metadata": {},
   "outputs": [],
   "source": [
    "import numpy as np\n",
    "np.set_printoptions(suppress=True)\n",
    "import pandas\n",
    "import math\n",
    "from matplotlib import pyplot as plt"
   ]
  },
  {
   "cell_type": "markdown",
   "id": "e68255bb",
   "metadata": {},
   "source": [
    "Import data ex1data1.csv into Python as data and set m=training set size"
   ]
  },
  {
   "cell_type": "code",
   "execution_count": 336,
   "id": "57f9ac9b",
   "metadata": {},
   "outputs": [],
   "source": [
    "data=pandas.read_csv('ex1data2.csv',sep=',',na_values='.')\n",
    "m=len(data)"
   ]
  },
  {
   "cell_type": "code",
   "execution_count": 337,
   "id": "3946565c",
   "metadata": {},
   "outputs": [
    {
     "name": "stdout",
     "output_type": "stream",
     "text": [
      "    size of house  bedrooms   price\n",
      "0            2104         3  399900\n",
      "1            1600         3  329900\n",
      "2            2400         3  369000\n",
      "3            1416         2  232000\n",
      "4            3000         4  539900\n",
      "5            1985         4  299900\n",
      "6            1534         3  314900\n",
      "7            1427         3  198999\n",
      "8            1380         3  212000\n",
      "9            1494         3  242500\n",
      "10           1940         4  239999\n",
      "11           2000         3  347000\n",
      "12           1890         3  329999\n",
      "13           4478         5  699900\n",
      "14           1268         3  259900\n",
      "15           2300         4  449900\n",
      "16           1320         2  299900\n",
      "17           1236         3  199900\n",
      "18           2609         4  499998\n",
      "19           3031         4  599000\n",
      "20           1767         3  252900\n",
      "21           1888         2  255000\n",
      "22           1604         3  242900\n",
      "23           1962         4  259900\n",
      "24           3890         3  573900\n",
      "25           1100         3  249900\n",
      "26           1458         3  464500\n",
      "27           2526         3  469000\n",
      "28           2200         3  475000\n",
      "29           2637         3  299900\n",
      "30           1839         2  349900\n",
      "31           1000         1  169900\n",
      "32           2040         4  314900\n",
      "33           3137         3  579900\n",
      "34           1811         4  285900\n",
      "35           1437         3  249900\n",
      "36           1239         3  229900\n",
      "37           2132         4  345000\n",
      "38           4215         4  549000\n",
      "39           2162         4  287000\n",
      "40           1664         2  368500\n",
      "41           2238         3  329900\n",
      "42           2567         4  314000\n",
      "43           1200         3  299000\n",
      "44            852         2  179900\n",
      "45           1852         4  299900\n",
      "46           1203         3  239500\n"
     ]
    }
   ],
   "source": [
    "print(data)"
   ]
  },
  {
   "cell_type": "markdown",
   "id": "e41f8e2b",
   "metadata": {},
   "source": [
    "Define our training sets to be $x$=input and $y$=output\n",
    "\n",
    "Let $X = [x_0;x_1;x_2]$ where the first column are just 1's, i.e $x_0=1$.\n",
    "\n",
    "Note: Since $X\\theta = y$, the first column of $X$ will always be a column of ones to correspond to the first parameter $\\theta_0$ of $\\theta = \\begin{bmatrix} \\theta_0 \\\\ \\theta_1 \\end{bmatrix}$\n",
    "\n",
    "We extract population as col1 and profit as col2. Then convert the list as an array which then is converted into a matrix using np.array() method"
   ]
  },
  {
   "cell_type": "code",
   "execution_count": 338,
   "id": "9ee677f5",
   "metadata": {
    "scrolled": true
   },
   "outputs": [],
   "source": [
    "col1=data.iloc[:,0]\n",
    "col2=data.iloc[:,1]\n",
    "col3=data.iloc[:,2]\n",
    "x_1=[[col1[i]] for i in range(m)]\n",
    "x_2=[[col2[i]] for i in range(m)]\n",
    "y=[[col3[i]] for i in range(m)]\n",
    "X=[[1,x_1[i][0],x_2[i][0]] for i in range(m)]\n",
    "x_1=np.array(x_1)\n",
    "x_2=np.array(x_2)\n",
    "y=np.array(y)\n",
    "X=np.array(X)"
   ]
  },
  {
   "cell_type": "markdown",
   "id": "69a62c39",
   "metadata": {},
   "source": [
    "# Normalizing Features\n",
    "\n",
    "Since we have multiple features with large disparity between the data values, we will normalize all features to scale well with $\\alpha$ when we apply Gradient Descent.\n",
    "\n",
    "We define the normalizeFeature(X) below"
   ]
  },
  {
   "cell_type": "code",
   "execution_count": 339,
   "id": "daba736e",
   "metadata": {},
   "outputs": [],
   "source": [
    "def normalizeFeature(X):\n",
    "    m=len(X)\n",
    "    n=len(X[0])\n",
    "    X_norm=np.zeros((m,n))\n",
    "    mu=np.zeros((1,n))\n",
    "    sigma=np.zeros((1,n))\n",
    "    \n",
    "    for j in range(n):\n",
    "        sum=0\n",
    "        col=[]\n",
    "        for i in range(m):\n",
    "            col.append(X[i][j])\n",
    "        \n",
    "        if j==0:\n",
    "            mu[0][0]=0\n",
    "        else:\n",
    "            mu[0][j]=np.mean(col)\n",
    "        sigma[0][j]=np.std(col)\n",
    "        if sigma[0][j]==0:\n",
    "            sigma[0][j]=1\n",
    "        \n",
    "        for i in range(m):\n",
    "            X_norm[i][j]=(X[i][j]-mu[0][j])/sigma[0][j]\n",
    "    \n",
    "    \n",
    "    return [X_norm,mu,sigma]"
   ]
  },
  {
   "cell_type": "markdown",
   "id": "6d9e3015",
   "metadata": {},
   "source": [
    "# Cost Function \n",
    "\n",
    "$$J(\\theta) = \\frac{1}{2m}\\sum_{i=1}^m(\\theta_0+\\theta_1*x_1^{(i)}+\\theta_2*x_2^{(i)}- y^{(i)})^2$$\n",
    "Where \n",
    "m= size of the training sample\n",
    "\n",
    "$\\theta = [\\theta_0; \\theta_1;\\theta_2]$ \n",
    "\n",
    "$(x_1^{(i)},x_2^{(i)},y^{(i)})$ is the $i$th training pair. \n",
    "\n",
    "# Gradient Descent\n",
    "\n",
    "To apply gradient descent, we start with an initial $\\theta$, with a given $\\alpha$ = step size of each iteration.\n",
    "\n",
    "$$\\theta_j := \\theta_j - \\alpha(1/m) * \\sum_{i=1}^m(\\theta_0+\\theta_1*x^{(i)}+\\theta_2*x^{(i)} - y^{(i)})x_j^{(i)}$$\n",
    "\n",
    "\n",
    "\n",
    "\n",
    "## Gradient Descent function\n",
    "\n",
    "gradientDescent(X,y,$\\theta$,iterations):\n",
    "\n",
    "| Parameter | Description |\n",
    "| :------ | :------ |\n",
    "| X | the matrix form of the training set input |\n",
    "| y | the vector form of the training set output |\n",
    "| $\\theta$ | the initialized theta, this is the starting point for our gradientDescent |\n",
    "| $\\alpha$ | the step size |\n",
    "| iterations | number of times we will apply gradientDescent to compute for the optimal $\\theta$ |\n",
    "\n",
    "\n",
    "| Return | Description |\n",
    "| ------ | ------ |\n",
    "| $\\theta$ | the optimal theta that will minimize the cost function |"
   ]
  },
  {
   "cell_type": "code",
   "execution_count": 340,
   "id": "5c70b6f0",
   "metadata": {},
   "outputs": [],
   "source": [
    "def computeCost(X,y,theta):\n",
    "    predicted=np.matmul(X,theta)\n",
    "    error=np.subtract(predicted,y)\n",
    "        \n",
    "    sumerrorSq=0\n",
    "    m=len(y)\n",
    "    for j in range(m):\n",
    "        sumerrorSq+=math.pow(error[j][0],2)\n",
    "    \n",
    "    return sumerrorSq/(2*m)\n",
    "    \n",
    "    \n",
    "\n",
    "\n",
    "def gradientDescent(X,y,theta,alpha,iterations):\n",
    "    #apply the iterations as the number of time we will apply gradient descent\n",
    "    for i in range(iterations):\n",
    "        predicted=np.matmul(X,theta)\n",
    "        error=np.subtract(predicted,y)\n",
    "\n",
    "        m=len(y)\n",
    "        theta=theta-alpha/m*(np.matmul(X.transpose(),error))\n",
    "        cost=computeCost(X,y,theta)\n",
    "        \n",
    "        \n",
    "    return theta\n",
    "                            "
   ]
  },
  {
   "cell_type": "code",
   "execution_count": 341,
   "id": "33b26ee7",
   "metadata": {
    "scrolled": true
   },
   "outputs": [
    {
     "name": "stdout",
     "output_type": "stream",
     "text": [
      "[[340412.65957447]\n",
      " [109447.79646964]\n",
      " [ -6578.35485416]]\n"
     ]
    }
   ],
   "source": [
    "\n",
    "A=normalizeFeature(X)\n",
    "X_norm=A[0]\n",
    "mu=A[1]\n",
    "sigma=A[2]\n",
    "theta = np.zeros((3,1))\n",
    "theta = gradientDescent(X_norm,y,theta,0.1,1000)\n",
    "print(theta)"
   ]
  },
  {
   "cell_type": "markdown",
   "id": "30c8b404",
   "metadata": {},
   "source": [
    "We will now plot the line $L_\\theta(x) = 109443.053x_1+-6569.553x_2$ and compare with the training sets.\n",
    "\n",
    "Let's use it to predict the price of a house with 1650 sq ft and 3br.\n",
    "\n",
    "First we need to normalize each feature with our $mu$ and $sigma$\n"
   ]
  },
  {
   "cell_type": "code",
   "execution_count": 353,
   "id": "c256fbbe",
   "metadata": {},
   "outputs": [
    {
     "name": "stdout",
     "output_type": "stream",
     "text": [
      "Predicted price of house: $ 293081.46\n"
     ]
    }
   ],
   "source": [
    "\n",
    "x=[1, 1650, 3]\n",
    "for i in range(len(X[0])):\n",
    "    x[i]=float((x[i]-mu[0][i])/sigma[0][i])\n",
    "\n",
    "\n",
    "price=round(theta[0][0]+theta[1][0]*x[1]+theta[2][0]*x[2],2)\n",
    "print('Predicted price of house: $',price)"
   ]
  }
 ],
 "metadata": {
  "kernelspec": {
   "display_name": "Python 3 (ipykernel)",
   "language": "python",
   "name": "python3"
  },
  "language_info": {
   "codemirror_mode": {
    "name": "ipython",
    "version": 3
   },
   "file_extension": ".py",
   "mimetype": "text/x-python",
   "name": "python",
   "nbconvert_exporter": "python",
   "pygments_lexer": "ipython3",
   "version": "3.9.0"
  }
 },
 "nbformat": 4,
 "nbformat_minor": 5
}
